{
  "nbformat": 4,
  "nbformat_minor": 0,
  "metadata": {
    "colab": {
      "name": "MaryamBabaie_COT5600_HW4.ipynb",
      "provenance": [],
      "collapsed_sections": [],
      "include_colab_link": true
    },
    "kernelspec": {
      "name": "python3",
      "display_name": "Python 3"
    }
  },
  "cells": [
    {
      "cell_type": "markdown",
      "metadata": {
        "id": "view-in-github",
        "colab_type": "text"
      },
      "source": [
        "<a href=\"https://colab.research.google.com/github/mbabaie/COT5600/blob/master/hw4/MaryamBabaie_COT5600_HW4.ipynb\" target=\"_parent\"><img src=\"https://colab.research.google.com/assets/colab-badge.svg\" alt=\"Open In Colab\"/></a>"
      ]
    },
    {
      "cell_type": "markdown",
      "metadata": {
        "id": "wf2A1lXe6JFT",
        "colab_type": "text"
      },
      "source": [
        "## HW 4"
      ]
    },
    {
      "cell_type": "markdown",
      "metadata": {
        "id": "hqRx6Utk6O2i",
        "colab_type": "text"
      },
      "source": [
        "### Problem 1 "
      ]
    },
    {
      "cell_type": "markdown",
      "metadata": {
        "id": "CAw2poAb6rci",
        "colab_type": "text"
      },
      "source": [
        "Implement Floyd's collision detection algorithm to find collisions.  It is OK if you look up the code for this on the internet.  Check out the wikipedia page [https://en.wikipedia.org/wiki/Cycle_detection](https://en.wikipedia.org/wiki/Cycle_detection).  "
      ]
    },
    {
      "cell_type": "markdown",
      "metadata": {
        "id": "XJOaBC6OSatB",
        "colab_type": "text"
      },
      "source": [
        "### Solution\n",
        "Cycle detection or cycle finding is the algorithmic problem of finding a cycle in a sequence of iterated function values. For any function f that maps a finite set S to itself, and any initial value x0 in S, the sequence of iterated function values\n",
        "\n",
        "x0,   x1=f(x0),   x2=f(x1),..., xi=f(x(i-1))\n",
        "must eventually use the same value twice: there must be some pair of distinct indices i and j such that xi = xj. This fact is in accordance with pigeonhole principle as well.Once this happens, the sequence must continue periodically, by repeating the same sequence of values from xi to x(j-1). Cycle detection is the problem of finding i and j, given f and x0.\n",
        "\n",
        "Many algorithms for finding cycles have been proposed including Floyd's algorithm. Robert W. Floyd's tortoise and hare algorithm moves two pointers at different speeds through the sequence of values until they both point to equal values. \n",
        "\n",
        "The key insight in the algorithm is as follows. If there is a cycle, then, for any integers i ≥ μ and k ≥ 0, xi = xi + kλ, where λ is the length of the loop to be found and μ is the index of the first element of the cycle. Based on this, it can then be shown that i = kλ ≥ μ for some k if and only if xi = x2i. Thus, the algorithm only needs to check for repeated values of this special form, one twice as far from the start of the sequence as the other, to find a period ν of a repetition that is a multiple of λ. Once ν is found, the algorithm retraces the sequence from its start to find the first repeated value xμ in the sequence, using the fact that λ divides ν and therefore that xμ = xμ + v. Finally, once the value of μ is known it is trivial to find the length λ of the shortest repeating cycle, by searching for the first position μ + λ for which xμ + λ = xμ.\n",
        "\n",
        "The algorithm thus maintains two pointers into the given sequence, one (the tortoise) at xi, and the other (the hare) at x2i. At each step of the algorithm, it increases i by one, moving the tortoise one step forward and the hare two steps forward in the sequence, and then compares the sequence values at these two pointers. The smallest value of i > 0 for which the tortoise and hare point to equal values is the desired value ν.\n",
        "\n",
        "The following Python code shows how this idea may be implemented as an algorithm.\n",
        "\n",
        "\n",
        "----------------------------------------------------------------------------------\n",
        "My references for this question:\n",
        "\n",
        "https://en.wikipedia.org/wiki/Cycle_detection"
      ]
    },
    {
      "cell_type": "code",
      "metadata": {
        "id": "b7uCEWiFSeqv",
        "colab_type": "code",
        "colab": {}
      },
      "source": [
        "def floyd(f, x0):\n",
        "    tortoise = f(x0) \n",
        "    hare = f(f(x0))\n",
        "    while tortoise != hare:\n",
        "        tortoise = f(tortoise)\n",
        "        hare = f(f(hare))\n",
        "    mu = 0\n",
        "    tortoise = x0\n",
        "    while tortoise != hare:\n",
        "        tortoise = f(tortoise)\n",
        "        hare = f(hare)\n",
        "        mu += 1\n",
        "    lam = 1\n",
        "    hare = f(tortoise)\n",
        "    while tortoise != hare:\n",
        "        hare = f(hare)\n",
        "        lam += 1\n",
        "    return lam, mu\n"
      ],
      "execution_count": 0,
      "outputs": []
    },
    {
      "cell_type": "code",
      "metadata": {
        "id": "AHCIoULnshN4",
        "colab_type": "code",
        "outputId": "8479d295-c282-41ad-c3a6-45d008448d2f",
        "colab": {
          "base_uri": "https://localhost:8080/",
          "height": 101
        }
      },
      "source": [
        "###########################################################################\n",
        "# total space\n",
        "S = {0,1,2,3,4,5,6,7,8}\n",
        "# a list of mapping S to S\n",
        "mappingList1 = {0:6, 1:6, 2:0, 3:1, 4:4, 5:3, 6:3, 7:4, 8:0}\n",
        "# init val\n",
        "x0 = 2\n",
        "res1 = [x0,]\n",
        "for i in range(1,20):\n",
        "  res1.append(mappingList1.get(res1[i-1]))\n",
        "\n",
        "def f1(x):\n",
        "  return mappingList1.get(x)\n",
        "\n",
        "l, m = floyd(f1, x0)\n",
        "print(\"sequence: {}\".format(res1))\n",
        "print(\"lambda = {}; mu = {}\".format(l, m))\n",
        "for i in range(m, m+l):\n",
        "  print(res1[i])"
      ],
      "execution_count": 0,
      "outputs": [
        {
          "output_type": "stream",
          "text": [
            "sequence: [2, 0, 6, 3, 1, 6, 3, 1, 6, 3, 1, 6, 3, 1, 6, 3, 1, 6, 3, 1]\n",
            "lambda = 3; mu = 2\n",
            "6\n",
            "3\n",
            "1\n"
          ],
          "name": "stdout"
        }
      ]
    },
    {
      "cell_type": "code",
      "metadata": {
        "id": "jwc3f7CguMZk",
        "colab_type": "code",
        "outputId": "da988b70-eb70-40b1-f205-630b2481c06c",
        "colab": {
          "base_uri": "https://localhost:8080/",
          "height": 67
        }
      },
      "source": [
        "###########################################################################\n",
        "# total space\n",
        "S2 = {0,1,2,3,4,5,6,7,8}\n",
        "# a list of mapping S to S\n",
        "mappingList2 = {0:6, 1:6, 2:0, 3:1, 4:4, 5:3, 6:3, 7:4, 8:0}\n",
        "# init val\n",
        "x00 = 4\n",
        "res2 = [x00,]\n",
        "for i in range(1,20):\n",
        "  res2.append(mappingList2.get(res2[i-1]))\n",
        "\n",
        "def f2(x):\n",
        "  return mappingList2.get(x)\n",
        "\n",
        "l, m = floyd(f2, x00)\n",
        "print(\"sequence: {}\".format(res2))\n",
        "print(\"lambda = {}; mu = {}\".format(l, m))\n",
        "for i in range(m, m+l):\n",
        "  print(res2[i])"
      ],
      "execution_count": 0,
      "outputs": [
        {
          "output_type": "stream",
          "text": [
            "sequence: [4, 4, 4, 4, 4, 4, 4, 4, 4, 4, 4, 4, 4, 4, 4, 4, 4, 4, 4, 4]\n",
            "lambda = 1; mu = 0\n",
            "4\n"
          ],
          "name": "stdout"
        }
      ]
    },
    {
      "cell_type": "code",
      "metadata": {
        "id": "Op_jsK48skea",
        "colab_type": "code",
        "outputId": "2aebb52e-0c14-4ae0-e479-b51b9848deda",
        "colab": {
          "base_uri": "https://localhost:8080/",
          "height": 101
        }
      },
      "source": [
        "###########################################################################\n",
        "# total space\n",
        "S3 = {0,1,2,3,4,5,6,7,8}\n",
        "# a list of mapping S to S\n",
        "mappingList3 = {0:3, 1:0, 2:4, 3:1, 4:6, 5:3, 6:2, 7:8, 8:7}\n",
        "# init val\n",
        "x000 = 5\n",
        "res3 = [x000,]\n",
        "for i in range(1,20):\n",
        "  res3.append(mappingList3.get(res3[i-1]))\n",
        "\n",
        "def f3(x):\n",
        "  return mappingList3.get(x)\n",
        "\n",
        "l, m = floyd(f3, x000)\n",
        "print(\"sequence: {}\".format(res3))\n",
        "print(\"lambda = {}; mu = {}\".format(l, m))\n",
        "for i in range(m, m+l):\n",
        "  print(res3[i])"
      ],
      "execution_count": 0,
      "outputs": [
        {
          "output_type": "stream",
          "text": [
            "sequence: [5, 3, 1, 0, 3, 1, 0, 3, 1, 0, 3, 1, 0, 3, 1, 0, 3, 1, 0, 3]\n",
            "lambda = 3; mu = 1\n",
            "3\n",
            "1\n",
            "0\n"
          ],
          "name": "stdout"
        }
      ]
    },
    {
      "cell_type": "markdown",
      "metadata": {
        "id": "YGvKfv8Q6_La",
        "colab_type": "text"
      },
      "source": [
        "### Problem 2"
      ]
    },
    {
      "cell_type": "markdown",
      "metadata": {
        "id": "TadZ2sxwQ2K9",
        "colab_type": "text"
      },
      "source": [
        "### Solution\n",
        "\n",
        "For an integer number like 'a' and a positive integer like 'n', such that gcd(a,n)=1 (a and n are relatively prime or mutually prime or co prime), the multiplicative order of a modulo n is the smallest positive integer 'k' with\n",
        "\n",
        "\n",
        "![alt text](https://wikimedia.org/api/rest_v1/media/math/render/svg/2741cd80c1f11e7977840682474cda9ec2dd606a)\n",
        "\n",
        "Let's see this through an example:\n",
        "The powers of 4 modulo 7 are as shown below:\n",
        "\n",
        "![alt text](https://wikimedia.org/api/rest_v1/media/math/render/svg/57c11579755a35efbe80c3315f0ac892a11f769b)\n",
        "\n",
        "So, we can infer: \"The smallest positive integer k such that 4^k (mod 7) = 1, is 3. So, O_7(4) = 3.\"\n",
        "\n",
        "If we look at the right most column of the numbers (the result f modulo), we definitely can see that the sequence of the results are repeating in a cycle, just like the problem we solved in question 1 (Floyd's alg for cycle detection).\n",
        "\n",
        "In order to check this further, I have written a code below which prints the results of modulo for more same style examples. Let's take a look at their sequence as well:"
      ]
    },
    {
      "cell_type": "code",
      "metadata": {
        "id": "BLv-7RFfQ2Zc",
        "colab_type": "code",
        "outputId": "6b539361-a517-42ae-d1c8-1c723728797f",
        "colab": {
          "base_uri": "https://localhost:8080/",
          "height": 84
        }
      },
      "source": [
        "def mult_ord_seq(a,n):\n",
        "  res = []\n",
        "  for i in range (1,15):\n",
        "    res.append(a**i % n)\n",
        "  print(res)\n",
        "\n",
        "mult_ord_seq(4,7)\n",
        "mult_ord_seq(3,5)\n",
        "mult_ord_seq(8,3)\n",
        "mult_ord_seq(3,8)    "
      ],
      "execution_count": 0,
      "outputs": [
        {
          "output_type": "stream",
          "text": [
            "[4, 2, 1, 4, 2, 1, 4, 2, 1, 4, 2, 1, 4, 2]\n",
            "[3, 4, 2, 1, 3, 4, 2, 1, 3, 4, 2, 1, 3, 4]\n",
            "[2, 1, 2, 1, 2, 1, 2, 1, 2, 1, 2, 1, 2, 1]\n",
            "[3, 1, 3, 1, 3, 1, 3, 1, 3, 1, 3, 1, 3, 1]\n"
          ],
          "name": "stdout"
        }
      ]
    },
    {
      "cell_type": "markdown",
      "metadata": {
        "id": "SpbBu7e1Y_Pv",
        "colab_type": "text"
      },
      "source": [
        "\n",
        "In 1st example the cycle is 4,2,1.\n",
        "\n",
        "In 2nd example the cycle is 3,4,2,1.\n",
        "\n",
        "In 3rd example the cycle is 2,1.\n",
        "\n",
        "In 4th example the cycle is 3,1.\n",
        "\n",
        "So, as I mentioned above, the multiplicative order of 'a modulo n' is the smallest positive integer 'k' with a^k (mode n) = 1. So, based on the cycles repeating in the sequences as printed abovev, in order to find the proper k, we can utilize the Floyd's cycle detection algorithm in problem 1.  \n",
        "\n",
        "If we look at the exapmles we have the following facts:\n",
        "\n",
        "In 1st example the proper k is 3 and the cycle length is 3.\n",
        "\n",
        "In 2nd examplethe proper k is 4 and the cycle length is 4.\n",
        "\n",
        "In 3rd example the proper k is 2 and the cycle length is 2.\n",
        "\n",
        "In 4th example the proper k is 2 and the cycle length is 2.\n",
        "\n",
        "***Thus, we can use the lambda returned by Floyd's Cycle Detection Algorithm as the answer to this problem!!!***\n",
        "\n",
        "In order to utilize the Floyd's alg, we need to define a function f, which I defined it as follows:\n",
        "f_i(xi) = a*xi mod N\n",
        "I define the x0=a^0=1.\n",
        "\n",
        "Just a quick note: As one of the conditions in the problem statement is \"the smallest positive number for k\", I have started the powers in my code from 1 instead of 0, to show all the condistions are satisfied. If we start the powers from 0, then we can make sure that such sequence always exist to the problem using Floyd's alg for cycle detection.\n",
        "\n",
        "------------------------------------------------------------------------------------\n",
        "My references for this question's solution:\n",
        "https://en.wikipedia.org/wiki/Multiplicative_order\n",
        "\n"
      ]
    },
    {
      "cell_type": "code",
      "metadata": {
        "id": "JBGsdOUke0ZQ",
        "colab_type": "code",
        "outputId": "504dd2c9-f181-466a-ce7a-4d65be12d2dc",
        "colab": {
          "base_uri": "https://localhost:8080/",
          "height": 185
        }
      },
      "source": [
        "\n",
        "from math import gcd\n",
        "a0=1\n",
        "\n",
        "def f_i(i):\n",
        "  temp = aa*i\n",
        "  return temp % NN\n",
        "\n",
        "def find_order(a, N):\n",
        "  if(gcd(a,N) != 1):\n",
        "    print(\"The condition of the problem statement gcd(a,N)=1 is not satisfied\")\n",
        "    return\n",
        "  \n",
        "  else:\n",
        "    global aa\n",
        "    global NN\n",
        "    aa=a\n",
        "    NN=N\n",
        "    r,mu = floyd(f_i,a0)\n",
        "    return r\n",
        "\n",
        "\n",
        "\n",
        "#test\n",
        "\n",
        "print(\"multiplicative order of 'a'={}, 'N'={} is '{}'\".format(4, 7, find_order(4,7)))\n",
        "print(\"-------------------------------------------------------\")\n",
        "print(\"multiplicative order of 'a'={}, 'N'={} is '{}'\".format(3, 5, find_order(3,5)))\n",
        "print(\"-------------------------------------------------------\")\n",
        "print(\"multiplicative order of 'a'={}, 'N'={} is '{}'\".format(8, 3, find_order(8,3)))\n",
        "print(\"-------------------------------------------------------\")\n",
        "print(\"multiplicative order of 'a'={}, 'N'={} is '{}'\".format(9, 17, find_order(9,17)))\n",
        "print(\"-------------------------------------------------------\")\n",
        "print(\"multiplicative order of 'a'={}, 'N'={} is '{}'\".format(10, 5, find_order(10,5)))\n",
        "\n",
        "\n"
      ],
      "execution_count": 0,
      "outputs": [
        {
          "output_type": "stream",
          "text": [
            "multiplicative order of 'a'=4, 'N'=7 is '3'\n",
            "-------------------------------------------------------\n",
            "multiplicative order of 'a'=3, 'N'=5 is '4'\n",
            "-------------------------------------------------------\n",
            "multiplicative order of 'a'=8, 'N'=3 is '2'\n",
            "-------------------------------------------------------\n",
            "multiplicative order of 'a'=9, 'N'=17 is '8'\n",
            "-------------------------------------------------------\n",
            "The condition of the problem statement gcd(a,N)=1 is not satisfied\n",
            "multiplicative order of 'a'=10, 'N'=5 is 'None'\n"
          ],
          "name": "stdout"
        }
      ]
    },
    {
      "cell_type": "markdown",
      "metadata": {
        "id": "b237qgr27rxx",
        "colab_type": "text"
      },
      "source": [
        "### Problem 3\n",
        "### Solution\n",
        "\n",
        "Shor's algorithm is a polynomial-time quantum computer algorithm for integer factorization.Given an integer N, find its prime factors.\n",
        "\n",
        "The problem that we are trying to solve here is, given a composite number N, to find a non-trivial divisor of N (a divisor strictly between 1 and N). Before attempting to find such a divisor, one can use relatively quick primality-testing algorithms to verify that N is indeed composite.\n",
        "We need N to be odd (otherwise 2 is a divisor) and not to be any power of a prime (otherwise that prime is a divisor), so we need to check that there are no integer roots N^(1/k) for 2<=k<=log(N)(base=3)\n",
        "So, I'll follow the steps demostrated in the problem statement as follows:\n",
        "\n",
        "\n",
        "------------------------------------------------------------------------------------\n",
        "My references for this question's solution:\n",
        "https://en.wikipedia.org/wiki/Shor%27s_algorithm\n"
      ]
    },
    {
      "cell_type": "code",
      "metadata": {
        "id": "ZObTYzc-7toX",
        "colab_type": "code",
        "outputId": "86ba1459-61d8-434a-b54d-c42547cbb89e",
        "colab": {
          "base_uri": "https://localhost:8080/",
          "height": 470
        }
      },
      "source": [
        "import math\n",
        "def prFctrs(n):\n",
        "  N=n\n",
        "  prList = [int(0)]*(n+1)  \n",
        "  while (n % 2 == 0): \n",
        "      prList[2]+=1 \n",
        "      n = int(n / 2)\n",
        "\n",
        "  for i in range(3,int(math.sqrt(n))+1,2):\n",
        "      while n % i== 0: \n",
        "          prList[i]+=1 \n",
        "          n = int(n / i) \n",
        "  if n > 2: \n",
        "      prList[n]+=1\n",
        "  count=0\n",
        "  for i in range (2,N):\n",
        "    if prList[i]>=1:\n",
        "      count+=1\n",
        "  return count\n",
        "\n",
        "def factor(N):\n",
        "\n",
        "  if(N%2==0):\n",
        "    print(\"N={} is even!!\\nWe need N to be odd (otherwise 2 is a divisor)! \".format(N))\n",
        "    return\n",
        "\n",
        "  elif(prFctrs(N)<2):\n",
        "    print(\"Number of prime factors: {}\".format(prFctrs(N)))\n",
        "    print(\"N={} must have at least 2 different prime factors! \".format(N))\n",
        "    return\n",
        "\n",
        "  #elif(N%2==1) and (primeFactors(N)>1):\n",
        "  else:\n",
        "    while 1:\n",
        "      print(\"Number of prime factors: {}\".format(prFctrs(N)))\n",
        "      # choose a uniformly at random in {2,...,N-1}, or \n",
        "      # if r odd, chose different a, or\n",
        "      # if f is a trivial factor choose different a\n",
        "      a = np.random.randint(2, N)\n",
        "      r=0\n",
        "      # compute the order r of a module N using the method from problem 2\n",
        "      if(gcd(a, N)!=1):\n",
        "        return gcd(a, N)\n",
        "      else:\n",
        "        r = find_order(a, N)\n",
        "      # if r even, compute f = gcd(a**(r/2 -1), N))\n",
        "      if (r % 2) == 0:\n",
        "        f = gcd(a**(int(r/2))-1, N)\n",
        "        # If f is a nontrivial factor, we are done and return f\n",
        "        if (f != N) and (f != 1):\n",
        "          return f\n",
        "\n",
        "\n",
        "print (factor(67*11*53))\n",
        "print(\"-------------------------------------------------------\")\n",
        "print (factor(23*41*37))\n",
        "print(\"-------------------------------------------------------\")\n",
        "print (factor(27))\n",
        "print(\"-------------------------------------------------------\")\n",
        "print (factor(192))\n",
        "print(\"-------------------------------------------------------\")\n",
        "print (factor(256))\n",
        "print(\"-------------------------------------------------------\")\n",
        "print (factor(47))\n",
        "print(\"-------------------------------------------------------\")\n",
        "print (factor(43*11*17*19))\n",
        "print(\"-------------------------------------------------------\")\n",
        "print (factor(17*53))\n"
      ],
      "execution_count": 182,
      "outputs": [
        {
          "output_type": "stream",
          "text": [
            "Number of prime factors: 3\n",
            "737\n",
            "-------------------------------------------------------\n",
            "Number of prime factors: 3\n",
            "41\n",
            "-------------------------------------------------------\n",
            "Number of prime factors: 1\n",
            "N=27 must have at least 2 different prime factors! \n",
            "None\n",
            "-------------------------------------------------------\n",
            "N=192 is even!!\n",
            "We need N to be odd (otherwise 2 is a divisor)! \n",
            "None\n",
            "-------------------------------------------------------\n",
            "N=256 is even!!\n",
            "We need N to be odd (otherwise 2 is a divisor)! \n",
            "None\n",
            "-------------------------------------------------------\n",
            "Number of prime factors: 0\n",
            "N=47 must have at least 2 different prime factors! \n",
            "None\n",
            "-------------------------------------------------------\n",
            "Number of prime factors: 4\n",
            "8987\n",
            "-------------------------------------------------------\n",
            "Number of prime factors: 2\n",
            "53\n"
          ],
          "name": "stdout"
        }
      ]
    }
  ]
}