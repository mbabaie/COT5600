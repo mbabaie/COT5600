{
  "nbformat": 4,
  "nbformat_minor": 0,
  "metadata": {
    "colab": {
      "name": "HW2.ipynb",
      "provenance": [],
      "collapsed_sections": []
    },
    "kernelspec": {
      "name": "python3",
      "display_name": "Python 3"
    }
  },
  "cells": [
    {
      "cell_type": "markdown",
      "metadata": {
        "id": "sGf-nYo10Klf",
        "colab_type": "text"
      },
      "source": [
        "## HW 2 ##"
      ]
    },
    {
      "cell_type": "markdown",
      "metadata": {
        "id": "dO_S4Lfp2ikH",
        "colab_type": "text"
      },
      "source": [
        "# **Problem 1**"
      ]
    },
    {
      "cell_type": "markdown",
      "metadata": {
        "id": "tpAherNO2k0W",
        "colab_type": "text"
      },
      "source": [
        "Implement a simulation of the Hadamard test for any qubit state |psi> and any single qubit unitary U using numpy. Observe that you have to compute how the state of the quantum register changes. It is not enough to just code up the formula for the probabilities that we derived in class.\n",
        "\n",
        "Recall that you can realize the controlled-U gate as follows: |0><0| otimes I + |1><1| otimes U. Use the numpy command np.kron for the tensor product.\n",
        "\n",
        "For |psi> use the state |0> and for the unitary U use the orthogonal matrix that describes the rotation by angle 2 pi theta, where theta [0, 1).\n",
        "\n",
        "Create a plot showing the probability Pr(0) in dependence on theta."
      ]
    },
    {
      "cell_type": "markdown",
      "metadata": {
        "colab_type": "text",
        "id": "A-VkLgVRYCMT"
      },
      "source": [
        "\n",
        "\n",
        "## **Solution**\n",
        "\n",
        "**Import required libraries and define primitives**"
      ]
    },
    {
      "cell_type": "code",
      "metadata": {
        "id": "4sjDTBlYJiE5",
        "colab_type": "code",
        "colab": {
          "base_uri": "https://localhost:8080/",
          "height": 151
        },
        "outputId": "9fcba57b-5ca9-45df-b8fe-3159d4544b6f"
      },
      "source": [
        "import numpy as np\n",
        "import matplotlib.pyplot as plt\n",
        "\n",
        "\n",
        "Ket0 = np.array([[1],[0]])\n",
        "Ket0T= Ket0.transpose()\n",
        "Ket1 = np.array([[0],[1]])\n",
        "Ket1T= Ket1.transpose()\n",
        "I = np.eye(2, dtype=int)\n"
      ],
      "execution_count": 58,
      "outputs": [
        {
          "output_type": "stream",
          "text": [
            "[[1]\n",
            " [0]]\n",
            "[[1 0]]\n",
            "[[0]\n",
            " [1]]\n",
            "[[0 1]]\n",
            "[[1 0]\n",
            " [0 1]]\n"
          ],
          "name": "stdout"
        }
      ]
    },
    {
      "cell_type": "markdown",
      "metadata": {
        "id": "96IhDnLkJnna",
        "colab_type": "text"
      },
      "source": [
        "Hadamard Test"
      ]
    },
    {
      "cell_type": "code",
      "metadata": {
        "id": "TGeUq-WyJp-I",
        "colab_type": "code",
        "colab": {}
      },
      "source": [
        "t=0;\n",
        "Tetha = np.zeros((100,1),dtype=float)\n",
        "res = np.zeros((100,1),dtype=float)\n",
        "T_H = (1/np.sqrt(2))*np.array([[1,0,1,0],[0,1,0,1],[1,0,-1,0],[0,1,0,-1]])\n",
        "Input = np.array([[1],[0],[0],[0]])\n",
        "count=0\n",
        "while (t<1):\n",
        "    U = [[np.cos(2*np.pi*t), (-1)*np.sin(2*np.pi*t)], [np.sin(2*np.pi*t), np.cos(2*np.pi*t)] ]\n",
        "    Step1 = np.matmul(T_H,Input)\n",
        "    Step2 = np.matmul((np.kron(np.matmul(Ket0,Ket0T),I)+np.kron(np.matmul(Ket1,Ket1T),U)),Step1)\n",
        "    Step3 = np.matmul(T_H,Step2)\n",
        "    Tetha[count] = t\n",
        "    res[count] = (Step3[0]*Step3[0])+(Step3[1]*Step3[1])\n",
        "    count=count+1\n",
        "    t=t+0.01"
      ],
      "execution_count": 0,
      "outputs": []
    },
    {
      "cell_type": "markdown",
      "metadata": {
        "id": "x62O5M_sKMJr",
        "colab_type": "text"
      },
      "source": [
        "Plot the Pr(|0>)\n",
        "\n",
        "\n"
      ]
    },
    {
      "cell_type": "code",
      "metadata": {
        "id": "-MEa48TDKOyQ",
        "colab_type": "code",
        "colab": {
          "base_uri": "https://localhost:8080/",
          "height": 296
        },
        "outputId": "5f49e1f6-0366-4032-f128-6730335d416e"
      },
      "source": [
        "plt.plot(Tetha,res)\n",
        "plt.xlabel(\"Tetha\")\n",
        "plt.ylabel(\"Pr(|0>)\")"
      ],
      "execution_count": 63,
      "outputs": [
        {
          "output_type": "execute_result",
          "data": {
            "text/plain": [
              "Text(0, 0.5, 'Pr(|0>)')"
            ]
          },
          "metadata": {
            "tags": []
          },
          "execution_count": 63
        },
        {
          "output_type": "display_data",
          "data": {
            "image/png": "[encoded data removed]",
            "text/plain": [
              "<Figure size 432x288 with 1 Axes>"
            ]
          },
          "metadata": {
            "tags": []
          }
        }
      ]
    },
    {
      "cell_type": "markdown",
      "metadata": {
        "id": "ZV-YL4Q9WELJ",
        "colab_type": "text"
      },
      "source": [
        "# **Problem 2**\n",
        "\n",
        "Implement a simulation of the SWAP test.\n",
        "\n",
        "Use |psi1> = |0> and |psi2> = cos(2 pi theta) |0> + sin(2 pi theta) |1>. Create a plot showing the probability Pr(0) in dependence on theta.\n",
        "\n",
        "# **Solution**"
      ]
    },
    {
      "cell_type": "code",
      "metadata": {
        "id": "dxqL49rCWYA7",
        "colab_type": "code",
        "colab": {}
      },
      "source": [
        "import numpy as np\n",
        "import matplotlib.pyplot as plt\n",
        "\n",
        "\n",
        "Ket0 = np.array([[1],[0]])\n",
        "I = np.eye(2, dtype=int)"
      ],
      "execution_count": 0,
      "outputs": []
    },
    {
      "cell_type": "markdown",
      "metadata": {
        "id": "4CHIbCb_nQ6a",
        "colab_type": "text"
      },
      "source": [
        "Swap Test"
      ]
    },
    {
      "cell_type": "code",
      "metadata": {
        "id": "HLuVnVSwnTT0",
        "colab_type": "code",
        "colab": {}
      },
      "source": [
        "t=0;\n",
        "Tetha = np.zeros((100,1),dtype=float)\n",
        "res = np.zeros((100,1),dtype=float)\n",
        "\n",
        "PM_H3 =(1/np.sqrt(2))*np.array([\n",
        "            [1,0,0,0,1,0,0,0],\n",
        "            [0,1,0,0,0,1,0,0],\n",
        "            [0,0,1,0,0,0,1,0],\n",
        "            [0,0,0,1,0,0,0,1],\n",
        "            [1,0,0,0,-1,0,0,0],\n",
        "            [0,1,0,0,0,-1,0,0],\n",
        "            [0,0,1,0,0,0,-1,0],\n",
        "            [0,0,0,1,0,0,0,-1]\n",
        "            ])\n",
        "\n",
        "PM_CS = np.array([\n",
        "    [1,0,0,0,0,0,0,0],\n",
        "    [0,1,0,0,0,0,0,0],\n",
        "    [0,0,1,0,0,0,0,0],\n",
        "    [0,0,0,1,0,0,0,0],\n",
        "    [0,0,0,0,1,0,0,0],\n",
        "    [0,0,0,0,0,0,1,0],\n",
        "    [0,0,0,0,0,1,0,0],\n",
        "    [0,0,0,0,0,0,0,1]\n",
        "    ])\n",
        "Input0 =  np.kron(Ket0,Ket0);\n",
        "count=0\n",
        "while (t<1):\n",
        "    psi2 = np.array([[np.cos(2*np.pi*t)], [np.sin(2*np.pi*t)]])\n",
        "    Input = np.kron(Input0, psi2)\n",
        "    Step1 = np.matmul(PM_H3,Input)\n",
        "    Step2 = np.matmul(PM_CS,Step1)\n",
        "    Step3 = np.matmul(PM_H3,Step2)\n",
        "    Tetha[count] = t\n",
        "    res[count] = (Step3[0]*Step3[0])+(Step3[1]*Step3[1])+(Step3[2]*Step3[2])+(Step3[3]*Step3[3])\n",
        "    count=count+1\n",
        "    t=t+0.01"
      ],
      "execution_count": 0,
      "outputs": []
    },
    {
      "cell_type": "markdown",
      "metadata": {
        "id": "DZQxtWSzsHYp",
        "colab_type": "text"
      },
      "source": [
        "Plot Pr(|0>)"
      ]
    },
    {
      "cell_type": "code",
      "metadata": {
        "id": "TrXcYK2xsd_o",
        "colab_type": "code",
        "colab": {
          "base_uri": "https://localhost:8080/",
          "height": 296
        },
        "outputId": "dcb9366d-4e17-40bc-edfb-3ec338189b19"
      },
      "source": [
        "plt.plot(Tetha,res)\n",
        "plt.xlabel(\"Tetha\")\n",
        "plt.ylabel(\"Pr(|0>)\")"
      ],
      "execution_count": 72,
      "outputs": [
        {
          "output_type": "execute_result",
          "data": {
            "text/plain": [
              "Text(0, 0.5, 'Pr(|0>)')"
            ]
          },
          "metadata": {
            "tags": []
          },
          "execution_count": 72
        },
        {
          "output_type": "display_data",
          "data": {
            "image/png": "[encoded data removed]",
            "text/plain": [
              "<Figure size 432x288 with 1 Axes>"
            ]
          },
          "metadata": {
            "tags": []
          }
        }
      ]
    }
  ]
}