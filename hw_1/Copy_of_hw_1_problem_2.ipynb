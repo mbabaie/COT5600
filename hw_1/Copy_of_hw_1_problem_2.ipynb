{
  "nbformat": 4,
  "nbformat_minor": 0,
  "metadata": {
    "colab": {
      "name": "Copy of hw_1_problem_2.ipynb",
      "provenance": [],
      "collapsed_sections": []
    },
    "kernelspec": {
      "name": "python3",
      "display_name": "Python 3"
    }
  },
  "cells": [
    {
      "cell_type": "markdown",
      "metadata": {
        "id": "sGf-nYo10Klf",
        "colab_type": "text"
      },
      "source": [
        "## HW 1 ##"
      ]
    },
    {
      "cell_type": "markdown",
      "metadata": {
        "id": "dO_S4Lfp2ikH",
        "colab_type": "text"
      },
      "source": [
        "### Problem 2 ###"
      ]
    },
    {
      "cell_type": "markdown",
      "metadata": {
        "id": "G0vOp72N8Ir9",
        "colab_type": "text"
      },
      "source": [
        "**Some definitions**"
      ]
    },
    {
      "cell_type": "markdown",
      "metadata": {
        "id": "tpAherNO2k0W",
        "colab_type": "text"
      },
      "source": [
        "Let \n",
        "\n",
        "$$M\\in\\mathbb{R}^{n\\times n}$$ be an arbitrary matrix.  \n",
        "\n",
        "Let $$p(x)=a_0 + a_1 x + a_2 x^2 + \\ldots + a_n x^n \\in\\mathbb{R}[x]$$ be an arbitrary polynomial of less or equal to $n$.\n",
        "\n",
        "The above polynomial can be used to define a matrix function that takes matrices as input and outputs matrices as follows: \n",
        "\n",
        "$$p(M) = a_0 I + a_1 M + \\ldots + a_n M^n,$$ \n",
        "\n",
        "that is, each monomial $x^k$ is substituted by the corresponding matrix power $M^k$.\n",
        "\n",
        "We say that a polynomial $p(x)$ annihilates a matrix $M\\in\\mathbb{R}^{n\\times n}$ iff $p(M)=\\boldsymbol{0}$, where $\\boldsymbol{0}$ is the zero matrix."
      ]
    },
    {
      "cell_type": "markdown",
      "metadata": {
        "id": "VqlwG3yO6eGm",
        "colab_type": "text"
      },
      "source": [
        "**Task**"
      ]
    },
    {
      "cell_type": "markdown",
      "metadata": {
        "id": "n4ltay5l26H-",
        "colab_type": "text"
      },
      "source": [
        "The task is to write a function ```annihilate_poly``` that takes as input an arbitrary square numpy array $M$ and outputs a vector whose cofficients are the coefficients of a (non-trivial) polynomial that annihilates $M$.  One-trivial means that its is not the zero polynomial which maps every matrix to the zero matrix."
      ]
    },
    {
      "cell_type": "markdown",
      "metadata": {
        "id": "F5jLtN6i6kr2",
        "colab_type": "text"
      },
      "source": [
        "**Hint**"
      ]
    },
    {
      "cell_type": "markdown",
      "metadata": {
        "id": "gX0wbu8z3eDu",
        "colab_type": "text"
      },
      "source": [
        "You can reduce the problem to finding a linear dependance relationship between the $n+1$ vectors \n",
        "\n",
        "$$\\mathrm{vec}(I), \\mathrm{vec}(M), \\mathrm{vec}(M^2),\\ldots,\\mathrm{vec}(M^n)\\in\\mathrm{R}^{n^2}.$$\n",
        "\n"
      ]
    },
    {
      "cell_type": "markdown",
      "metadata": {
        "id": "n3SRuDOi5DLH",
        "colab_type": "text"
      },
      "source": [
        "The operation $\\mathrm{vec}$ turns a square matrix $M\\in\\mathbb{R}^{n\\times n}$ into a vector $v\\in\\mathbb{R}^{n^2}$ by first listing the entries of the first row, then those of the second row etc."
      ]
    },
    {
      "cell_type": "markdown",
      "metadata": {
        "id": "KXdlDLbQ7lHm",
        "colab_type": "text"
      },
      "source": [
        "Update: \n",
        "\n",
        "To solve this problem, you have to compute the null space of the matrix $A\\in \\mathbb{R}^{n^2\\times (n+1)}$ whose columns are the vectors $\\mathrm{vec}(M^k)$ for $k\\in\\{0,\\ldots,n\\}$.\n",
        "\n",
        "\n",
        "(This is not needed: \n",
        "\n",
        "If you don't remeber how to compute the find a linear dependance relationship, check out this stackoverflow post: https://math.stackexchange.com/questions/2198960/finding-linear-dependence-relation\n",
        "\n",
        "You can use https://docs.scipy.org/doc/numpy/reference/generated/numpy.linalg.solve.html to solve the resulting matrix equation.)"
      ]
    },
    {
      "cell_type": "markdown",
      "metadata": {
        "id": "je97MuQ981hW",
        "colab_type": "text"
      },
      "source": [
        "**Task**"
      ]
    },
    {
      "cell_type": "markdown",
      "metadata": {
        "id": "H0LgESqW8_7O",
        "colab_type": "text"
      },
      "source": [
        "Write a function ```annihilate_min_deg_poly``` that computes a non-trivial polynomial that annihilates a given square matrix and has the smallest possible degree.  Recall that a polynomial $p(x)$ has degree $d$ if the coefficient $a_{d+1}=\\ldots=a_n=0$."
      ]
    },
    {
      "cell_type": "markdown",
      "metadata": {
        "id": "hHZeB72MJaZs",
        "colab_type": "text"
      },
      "source": [
        "################################################################################################# ################################################################################################# #################################################################################################\n",
        "\n",
        "Solution\n",
        "\n",
        "Import required libraries"
      ]
    },
    {
      "cell_type": "code",
      "metadata": {
        "id": "4sjDTBlYJiE5",
        "colab_type": "code",
        "colab": {}
      },
      "source": [
        "import numpy as np\n",
        "from scipy.linalg import null_space\n",
        "np.set_printoptions(precision=8)"
      ],
      "execution_count": 0,
      "outputs": []
    },
    {
      "cell_type": "markdown",
      "metadata": {
        "id": "96IhDnLkJnna",
        "colab_type": "text"
      },
      "source": [
        "Define annihilate_poly function"
      ]
    },
    {
      "cell_type": "code",
      "metadata": {
        "id": "TGeUq-WyJp-I",
        "colab_type": "code",
        "colab": {}
      },
      "source": [
        "def annihilate_poly(M):\n",
        "    n = M.shape[1]\n",
        "    I = np.eye(n, dtype=int)\n",
        "    A =  I.flatten()\n",
        "    A = np.reshape(A, (-1, 1))\n",
        "    for x in range(1,n+1):\n",
        "        temp = np.linalg.matrix_power(M,x)\n",
        "        temp = np.transpose(temp.flatten())\n",
        "        temp = np.reshape(temp, (-1, 1))\n",
        "        A = np.concatenate((A,temp),axis=1)\n",
        "        \n",
        "    print(\"Matrix A=\")    \n",
        "    print(A)\n",
        "    Coef = null_space(A)\n",
        "    return Coef"
      ],
      "execution_count": 0,
      "outputs": []
    },
    {
      "cell_type": "markdown",
      "metadata": {
        "id": "x62O5M_sKMJr",
        "colab_type": "text"
      },
      "source": [
        "define annihilate_min_def_poly function"
      ]
    },
    {
      "cell_type": "code",
      "metadata": {
        "id": "-MEa48TDKOyQ",
        "colab_type": "code",
        "colab": {}
      },
      "source": [
        "def annihilate_min_def_poly(M):\n",
        "    n = M.shape[1]\n",
        "    I = np.eye(n, dtype=int)\n",
        "    A =  I.flatten()\n",
        "    A = np.reshape(A, (-1, 1))\n",
        "    x=1\n",
        "    while True:\n",
        "        temp = np.linalg.matrix_power(M,x)\n",
        "        temp = np.transpose(temp.flatten())\n",
        "        temp = np.reshape(temp, (-1, 1))\n",
        "        A = np.concatenate((A,temp),axis=1)\n",
        "        Coef = null_space(A)\n",
        "        if(Coef.size!=0):\n",
        "            print(\"Min Degree is\")\n",
        "            print(x)\n",
        "            break\n",
        "        x=x+1 \n",
        "#     print(\"Matrix A=\")    \n",
        "#     print(A)\n",
        "    return Coef"
      ],
      "execution_count": 0,
      "outputs": []
    },
    {
      "cell_type": "markdown",
      "metadata": {
        "id": "0vvI2WdOKSMW",
        "colab_type": "text"
      },
      "source": [
        "Function to test the polynomial"
      ]
    },
    {
      "cell_type": "code",
      "metadata": {
        "id": "BFA5YkLQKW_U",
        "colab_type": "code",
        "colab": {}
      },
      "source": [
        "def Polytest(M,Coef):\n",
        "    n = M.shape[1]\n",
        "    I = np.eye(n, dtype=int)\n",
        "    Val = I*Coef[0]\n",
        "    for x in range(1,Coef.shape[0]):\n",
        "        Val = Val + np.linalg.matrix_power(M,x)*Coef[x]\n",
        "           \n",
        "    return Val"
      ],
      "execution_count": 0,
      "outputs": []
    },
    {
      "cell_type": "markdown",
      "metadata": {
        "id": "bQ-yTKrwKZ2_",
        "colab_type": "text"
      },
      "source": [
        "We created 3 sample matrixes M1, M2, and M3 with sizes n=2, 3, and 4"
      ]
    },
    {
      "cell_type": "code",
      "metadata": {
        "id": "wBbOGDTJKb4k",
        "colab_type": "code",
        "colab": {}
      },
      "source": [
        "S = 2\n",
        "M1 = np.random.randint(10,size=(S,S))\n",
        "S = 3\n",
        "M2 = np.random.randint(10,size=(S,S))\n",
        "S = 4\n",
        "M3 = np.random.randint(10,size=(S,S))"
      ],
      "execution_count": 0,
      "outputs": []
    },
    {
      "cell_type": "markdown",
      "metadata": {
        "id": "mNQjBR5tKgJg",
        "colab_type": "text"
      },
      "source": [
        "#################################################################################################\n",
        "\n",
        "Test Cases On annihilate_poly\n",
        "\n",
        "#################################################################################################\n",
        "\n",
        "Test for Matrix M1"
      ]
    },
    {
      "cell_type": "code",
      "metadata": {
        "id": "SG5cE3Q6Kira",
        "colab_type": "code",
        "outputId": "a945bc01-a97c-4ef8-f530-c80ddc110489",
        "colab": {
          "base_uri": "https://localhost:8080/",
          "height": 316
        }
      },
      "source": [
        "print(\"M1 Matrix is:\")\n",
        "print(M1)\n",
        "Coef = annihilate_poly(M1)\n",
        "print(\"=============================================\")\n",
        "print(\"Coefficients:\")\n",
        "print(Coef)\n",
        "print(\"=============================================\")\n",
        "Out = Polytest(M1,Coef)\n",
        "print(\"P(M)=\")\n",
        "print(Out)"
      ],
      "execution_count": 0,
      "outputs": [
        {
          "output_type": "stream",
          "text": [
            "M1 Matrix is:\n",
            "[[7 1]\n",
            " [9 4]]\n",
            "Matrix A=\n",
            "[[ 1  7 58]\n",
            " [ 0  1 11]\n",
            " [ 0  9 99]\n",
            " [ 1  4 25]]\n",
            "=============================================\n",
            "Coefficients:\n",
            "[[ 0.86452993]\n",
            " [-0.50051733]\n",
            " [ 0.04550158]]\n",
            "=============================================\n",
            "P(M)=\n",
            "[[2.22044605e-15 3.33066907e-16]\n",
            " [3.55271368e-15 1.11022302e-15]]\n"
          ],
          "name": "stdout"
        }
      ]
    },
    {
      "cell_type": "markdown",
      "metadata": {
        "id": "DPpQ334iNDvW",
        "colab_type": "text"
      },
      "source": [
        "Test for Matrix M2"
      ]
    },
    {
      "cell_type": "code",
      "metadata": {
        "id": "baQsrmISNJUa",
        "colab_type": "code",
        "outputId": "5a1f51f6-7c41-44ca-c9bc-dea5ef7f01e7",
        "colab": {
          "base_uri": "https://localhost:8080/",
          "height": 457
        }
      },
      "source": [
        "print(\"M2 Matrix is:\")\n",
        "print(M2)\n",
        "Coef = annihilate_poly(M2)\n",
        "print(\"=============================================\")\n",
        "print(\"Coefficients:\")\n",
        "print(Coef)\n",
        "print(\"=============================================\")\n",
        "Out = Polytest(M2,Coef)\n",
        "print(\"P(M)=\")\n",
        "print(Out)"
      ],
      "execution_count": 0,
      "outputs": [
        {
          "output_type": "stream",
          "text": [
            "M2 Matrix is:\n",
            "[[2 8 6]\n",
            " [3 3 6]\n",
            " [9 1 4]]\n",
            "Matrix A=\n",
            "[[   1    2   82 1058]\n",
            " [   0    8   46  878]\n",
            " [   0    6   84 1104]\n",
            " [   0    3   69  795]\n",
            " [   1    3   39  729]\n",
            " [   0    6   60  888]\n",
            " [   0    9   57 1035]\n",
            " [   0    1   79  769]\n",
            " [   1    4   76 1120]]\n",
            "=============================================\n",
            "Coefficients:\n",
            "[[ 0.96100343]\n",
            " [ 0.27322646]\n",
            " [ 0.04239721]\n",
            " [-0.0047108 ]]\n",
            "=============================================\n",
            "P(M)=\n",
            "[[ 3.81916720e-14 -6.21724894e-15 -9.76996262e-15]\n",
            " [-7.54951657e-15  4.17443857e-14 -7.10542736e-15]\n",
            " [-7.99360578e-15 -7.54951657e-15  3.81916720e-14]]\n"
          ],
          "name": "stdout"
        }
      ]
    },
    {
      "cell_type": "markdown",
      "metadata": {
        "id": "9umrBR_JNNLa",
        "colab_type": "text"
      },
      "source": [
        "Test for Matrix M2"
      ]
    },
    {
      "cell_type": "code",
      "metadata": {
        "id": "WpNleZtsNOQm",
        "colab_type": "code",
        "outputId": "5f580bf4-1bd8-46ea-886c-34bc697da140",
        "colab": {
          "base_uri": "https://localhost:8080/",
          "height": 633
        }
      },
      "source": [
        "print(\"M3 Matrix is:\")\n",
        "print(M3)\n",
        "Coef = annihilate_poly(M3)\n",
        "print(\"=============================================\")\n",
        "print(\"Coefficients:\")\n",
        "print(Coef)\n",
        "print(\"=============================================\")\n",
        "Out = Polytest(M3,Coef)\n",
        "print(\"P(M)=\")\n",
        "print(Out)"
      ],
      "execution_count": 0,
      "outputs": [
        {
          "output_type": "stream",
          "text": [
            "M3 Matrix is:\n",
            "[[8 6 8 2]\n",
            " [4 7 3 9]\n",
            " [3 9 0 3]\n",
            " [7 3 8 8]]\n",
            "Matrix A=\n",
            "[[    1     8   126  2744 62270]\n",
            " [    0     6   168  3144 68814]\n",
            " [    0     8    98  2392 54888]\n",
            " [    0     2   110  2938 64464]\n",
            " [    0     4   132  3003 66017]\n",
            " [    1     7   127  3262 73723]\n",
            " [    0     3   125  2653 57794]\n",
            " [    0     9   152  2998 67307]\n",
            " [    0     3    81  2010 44589]\n",
            " [    0     9    90  2124 49437]\n",
            " [    1     0    75  1806 39132]\n",
            " [    0     3   111  2085 45234]\n",
            " [    0     7   148  3110 69177]\n",
            " [    0     3   159  3549 77178]\n",
            " [    0     8   129  2693 60695]\n",
            " [    1     8   129  3146 71408]]\n",
            "=============================================\n",
            "Coefficients:\n",
            "[[-0.56697307]\n",
            " [-0.81960392]\n",
            " [ 0.06942527]\n",
            " [-0.04435504]\n",
            " [ 0.00192848]]\n",
            "=============================================\n",
            "P(M)=\n",
            "[[-7.38964445e-13  1.59161573e-12  5.18696197e-12  1.13686838e-12]\n",
            " [ 1.63424829e-12 -6.53699317e-13  6.39488462e-13  4.32009983e-12]\n",
            " [ 1.69109171e-12  5.84066129e-12 -5.72697445e-12  3.55271368e-13]\n",
            " [ 3.24007488e-12  5.11590770e-13  4.19220214e-12 -1.98951966e-13]]\n"
          ],
          "name": "stdout"
        }
      ]
    },
    {
      "cell_type": "markdown",
      "metadata": {
        "id": "tCLPUsAwNVQp",
        "colab_type": "text"
      },
      "source": [
        "#################################################################################################\n",
        "\n",
        "Test Cases On annihilate_min_def_poly\n",
        "\n",
        "#################################################################################################\n",
        "\n",
        "Test for Matrix M1"
      ]
    },
    {
      "cell_type": "code",
      "metadata": {
        "id": "yc0LFWyYNWFl",
        "colab_type": "code",
        "outputId": "91ef5e23-097c-424d-d474-7f0e34c31e14",
        "colab": {
          "base_uri": "https://localhost:8080/",
          "height": 263
        }
      },
      "source": [
        "print(\"M1 Matrix is:\")\n",
        "print(M1)\n",
        "Coef = annihilate_min_def_poly(M1)\n",
        "print(\"=============================================\")\n",
        "print(\"Coefficients:\")\n",
        "print(Coef)\n",
        "print(\"=============================================\")\n",
        "Out = Polytest(M1,Coef)\n",
        "print(\"P(M)=\")\n",
        "print(Out)"
      ],
      "execution_count": 0,
      "outputs": [
        {
          "output_type": "stream",
          "text": [
            "M1 Matrix is:\n",
            "[[7 1]\n",
            " [9 4]]\n",
            "Min Degree is\n",
            "2\n",
            "=============================================\n",
            "Coefficients:\n",
            "[[ 0.86452993]\n",
            " [-0.50051733]\n",
            " [ 0.04550158]]\n",
            "=============================================\n",
            "P(M)=\n",
            "[[2.22044605e-15 3.33066907e-16]\n",
            " [3.55271368e-15 1.11022302e-15]]\n"
          ],
          "name": "stdout"
        }
      ]
    },
    {
      "cell_type": "markdown",
      "metadata": {
        "id": "840I-qVlNhMA",
        "colab_type": "text"
      },
      "source": [
        "Test for Matrix M2"
      ]
    },
    {
      "cell_type": "code",
      "metadata": {
        "id": "RtJWA0lTNhvd",
        "colab_type": "code",
        "outputId": "e61f48d4-e1f6-4d34-8305-1ee2eed316fc",
        "colab": {
          "base_uri": "https://localhost:8080/",
          "height": 316
        }
      },
      "source": [
        "print(\"M2 Matrix is:\")\n",
        "print(M2)\n",
        "Coef = annihilate_min_def_poly(M2)\n",
        "print(\"=============================================\")\n",
        "print(\"Coefficients:\")\n",
        "print(Coef)\n",
        "print(\"=============================================\")\n",
        "Out = Polytest(M2,Coef)\n",
        "print(\"P(M)=\")\n",
        "print(Out)"
      ],
      "execution_count": 0,
      "outputs": [
        {
          "output_type": "stream",
          "text": [
            "M2 Matrix is:\n",
            "[[2 8 6]\n",
            " [3 3 6]\n",
            " [9 1 4]]\n",
            "Min Degree is\n",
            "3\n",
            "=============================================\n",
            "Coefficients:\n",
            "[[ 0.96100343]\n",
            " [ 0.27322646]\n",
            " [ 0.04239721]\n",
            " [-0.0047108 ]]\n",
            "=============================================\n",
            "P(M)=\n",
            "[[ 3.81916720e-14 -6.21724894e-15 -9.76996262e-15]\n",
            " [-7.54951657e-15  4.17443857e-14 -7.10542736e-15]\n",
            " [-7.99360578e-15 -7.54951657e-15  3.81916720e-14]]\n"
          ],
          "name": "stdout"
        }
      ]
    },
    {
      "cell_type": "markdown",
      "metadata": {
        "id": "lJhw2trmNoaa",
        "colab_type": "text"
      },
      "source": [
        "Test for Matrix M3"
      ]
    },
    {
      "cell_type": "code",
      "metadata": {
        "id": "agUvDtaA8lTQ",
        "colab_type": "code",
        "outputId": "a4cb883e-bc15-4f1b-cea0-9062623de3b5",
        "colab": {
          "base_uri": "https://localhost:8080/",
          "height": 369
        }
      },
      "source": [
        "print(\"M3 Matrix is:\")\n",
        "print(M3)\n",
        "Coef = annihilate_min_def_poly(M3)\n",
        "print(\"=============================================\")\n",
        "print(\"Coefficients:\")\n",
        "print(Coef)\n",
        "print(\"=============================================\")\n",
        "Out = Polytest(M3,Coef)\n",
        "print(\"P(M)=\")\n",
        "print(Out)"
      ],
      "execution_count": 0,
      "outputs": [
        {
          "output_type": "stream",
          "text": [
            "M3 Matrix is:\n",
            "[[8 6 8 2]\n",
            " [4 7 3 9]\n",
            " [3 9 0 3]\n",
            " [7 3 8 8]]\n",
            "Min Degree is\n",
            "4\n",
            "=============================================\n",
            "Coefficients:\n",
            "[[-0.56697307]\n",
            " [-0.81960392]\n",
            " [ 0.06942527]\n",
            " [-0.04435504]\n",
            " [ 0.00192848]]\n",
            "=============================================\n",
            "P(M)=\n",
            "[[-7.38964445e-13  1.59161573e-12  5.18696197e-12  1.13686838e-12]\n",
            " [ 1.63424829e-12 -6.53699317e-13  6.39488462e-13  4.32009983e-12]\n",
            " [ 1.69109171e-12  5.84066129e-12 -5.72697445e-12  3.55271368e-13]\n",
            " [ 3.24007488e-12  5.11590770e-13  4.19220214e-12 -1.98951966e-13]]\n"
          ],
          "name": "stdout"
        }
      ]
    },
    {
      "cell_type": "markdown",
      "metadata": {
        "id": "9gjGlr6N8plf",
        "colab_type": "text"
      },
      "source": [
        "#################################################################################################\n",
        "\n",
        "For bigger matrices with size bigger than 7 annihilation needs polynomials of order 49 and is not very effective as for smaller matrices. As you can see in the following example the P(M) annihilates to numbers of order 1e-6 or 1e-7 while for matrices M of size 4 P(M) annihilated to numbers of order 1e-13\n",
        "\n",
        "Test Case with M 7x7 Matrix."
      ]
    },
    {
      "cell_type": "code",
      "metadata": {
        "id": "Dx3Cs07n8vBF",
        "colab_type": "code",
        "outputId": "039b8f1a-a21e-425d-cfed-96ff7c2e11cf",
        "colab": {
          "base_uri": "https://localhost:8080/",
          "height": 650
        }
      },
      "source": [
        "S = 7\n",
        "M6 = np.random.randint(10,size=(S,S))\n",
        "print(\"M6 Matrix is:\")\n",
        "print(M6)\n",
        "Coef = annihilate_min_def_poly(M6)\n",
        "print(\"=============================================\")\n",
        "print(\"Coefficients:\")\n",
        "print(Coef)\n",
        "print(\"=============================================\")\n",
        "Out = Polytest(M6,Coef)\n",
        "print(\"P(M)=\")\n",
        "print(Out)"
      ],
      "execution_count": 0,
      "outputs": [
        {
          "output_type": "stream",
          "text": [
            "M6 Matrix is:\n",
            "[[8 2 0 1 5 0 0]\n",
            " [0 3 4 9 9 7 0]\n",
            " [2 4 2 6 9 3 6]\n",
            " [9 5 2 4 4 5 8]\n",
            " [8 8 5 7 9 7 2]\n",
            " [5 5 9 0 2 0 8]\n",
            " [4 4 2 7 5 3 2]]\n",
            "Min Degree is\n",
            "7\n",
            "=============================================\n",
            "Coefficients:\n",
            "[[-9.48892245e-01]\n",
            " [-3.14738313e-01]\n",
            " [ 1.62112399e-02]\n",
            " [ 1.67236193e-02]\n",
            " [ 8.50425600e-04]\n",
            " [-3.01901087e-04]\n",
            " [-5.95297919e-05]\n",
            " [ 2.12606400e-06]]\n",
            "=============================================\n",
            "P(M)=\n",
            "[[-4.09583663e-07 -4.92937033e-08  1.11531335e-08  1.90084393e-10\n",
            "  -1.53157089e-07  4.14529495e-08 -1.74486559e-08]\n",
            " [ 1.56398528e-07 -1.18156095e-07 -6.35409378e-08 -3.83886800e-07\n",
            "  -3.56254532e-07 -2.38200300e-07  1.86491889e-07]\n",
            " [ 2.94876372e-08 -6.96509233e-08 -1.37717507e-07 -1.52429493e-07\n",
            "  -3.12413249e-07 -2.54385668e-08 -2.30613296e-07]\n",
            " [-2.88875526e-07 -1.40416887e-07 -7.95716915e-09 -1.90051651e-07\n",
            "  -4.43051249e-08 -1.83505108e-07 -3.27732778e-07]\n",
            " [-2.17540219e-07 -2.47640855e-07 -1.11256668e-07 -2.04696335e-07\n",
            "  -3.58220859e-07 -2.21361915e-07  3.06372385e-08]\n",
            " [-2.36483174e-07 -1.97824193e-07 -4.43594217e-07  1.85998942e-07\n",
            "   1.14585418e-07 -5.87579052e-08 -3.80094207e-07]\n",
            " [-7.08678272e-08 -1.06118023e-07 -3.73311195e-08 -2.61659807e-07\n",
            "  -1.40336851e-07 -5.85414455e-08 -1.25702172e-07]]\n"
          ],
          "name": "stdout"
        }
      ]
    }
  ]
}