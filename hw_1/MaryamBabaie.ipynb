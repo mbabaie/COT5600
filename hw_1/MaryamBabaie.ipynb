{
 "cells": [
  {
   "cell_type": "markdown",
   "metadata": {
    "colab_type": "text",
    "id": "view-in-github"
   },
   "source": [
    "<a href=\"https://colab.research.google.com/github/schneider128k/quantum_computing_slides/blob/master/hw_1_problem_2.ipynb\" target=\"_parent\"><img src=\"https://colab.research.google.com/assets/colab-badge.svg\" alt=\"Open In Colab\"/></a>"
   ]
  },
  {
   "cell_type": "markdown",
   "metadata": {
    "colab_type": "text",
    "id": "sGf-nYo10Klf"
   },
   "source": [
    "## HW 1 ##"
   ]
  },
  {
   "cell_type": "markdown",
   "metadata": {
    "colab_type": "text",
    "id": "dO_S4Lfp2ikH"
   },
   "source": [
    "### Problem 2 ###"
   ]
  },
  {
   "cell_type": "markdown",
   "metadata": {
    "colab_type": "text",
    "id": "G0vOp72N8Ir9"
   },
   "source": [
    "**Some definitions**"
   ]
  },
  {
   "cell_type": "markdown",
   "metadata": {
    "colab_type": "text",
    "id": "tpAherNO2k0W"
   },
   "source": [
    "Let \n",
    "\n",
    "$$M\\in\\mathbb{R}^{n\\times n}$$ be an arbitrary matrix.  \n",
    "\n",
    "Let $$p(x)=a_0 + a_1 x + a_2 x^2 + \\ldots + a_n x^n \\in\\mathbb{R}[x]$$ be an arbitrary polynomial of less or equal to $n$.\n",
    "\n",
    "The above polynomial can be used to define a matrix function that takes matrices as input and outputs matrices as follows: \n",
    "\n",
    "$$p(M) = a_0 I + a_1 M + \\ldots + a_n M^n,$$ \n",
    "\n",
    "that is, each monomial $x^k$ is substituted by the corresponding matrix power $M^k$.\n",
    "\n",
    "We say that a polynomial $p(x)$ annihilates a matrix $M\\in\\mathbb{R}^{n\\times n}$ iff $p(M)=\\boldsymbol{0}$, where $\\boldsymbol{0}$ is the zero matrix."
   ]
  },
  {
   "cell_type": "markdown",
   "metadata": {
    "colab_type": "text",
    "id": "VqlwG3yO6eGm"
   },
   "source": [
    "**Task**"
   ]
  },
  {
   "cell_type": "markdown",
   "metadata": {
    "colab_type": "text",
    "id": "n4ltay5l26H-"
   },
   "source": [
    "The task is to write a function ```annihilate_poly``` that takes as input an arbitrary square numpy array $M$ and outputs a vector whose cofficients are the coefficients of a (non-trivial) polynomial that annihilates $M$.  One-trivial means that its is not the zero polynomial which maps every matrix to the zero matrix."
   ]
  },
  {
   "cell_type": "markdown",
   "metadata": {
    "colab_type": "text",
    "id": "F5jLtN6i6kr2"
   },
   "source": [
    "**Hint**"
   ]
  },
  {
   "cell_type": "markdown",
   "metadata": {
    "colab_type": "text",
    "id": "gX0wbu8z3eDu"
   },
   "source": [
    "You can reduce the problem to finding a linear dependance relationship between the $n+1$ vectors \n",
    "\n",
    "$$\\mathrm{vec}(I), \\mathrm{vec}(M), \\mathrm{vec}(M^2),\\ldots,\\mathrm{vec}(M^n)\\in\\mathrm{R}^{n^2}.$$\n",
    "\n"
   ]
  },
  {
   "cell_type": "markdown",
   "metadata": {
    "colab_type": "text",
    "id": "n3SRuDOi5DLH"
   },
   "source": [
    "The operation $\\mathrm{vec}$ turns a square matrix $M\\in\\mathbb{R}^{n\\times n}$ into a vector $v\\in\\mathbb{R}^{n^2}$ by first listing the entries of the first row, then those of the second row etc."
   ]
  },
  {
   "cell_type": "markdown",
   "metadata": {
    "colab_type": "text",
    "id": "KXdlDLbQ7lHm"
   },
   "source": [
    "Update: \n",
    "\n",
    "To solve this problem, you have to compute the null space of the matrix $A\\in \\mathbb{R}^{n^2\\times (n+1)}$ whose columns are the vectors $\\mathrm{vec}(M^k)$ for $k\\in\\{0,\\ldots,n\\}$.\n",
    "\n",
    "\n",
    "(This is not needed: \n",
    "\n",
    "If you don't remeber how to compute the find a linear dependance relationship, check out this stackoverflow post: https://math.stackexchange.com/questions/2198960/finding-linear-dependence-relation\n",
    "\n",
    "You can use https://docs.scipy.org/doc/numpy/reference/generated/numpy.linalg.solve.html to solve the resulting matrix equation.)"
   ]
  },
  {
   "cell_type": "markdown",
   "metadata": {
    "colab_type": "text",
    "id": "je97MuQ981hW"
   },
   "source": [
    "**Task**"
   ]
  },
  {
   "cell_type": "markdown",
   "metadata": {
    "colab_type": "text",
    "id": "H0LgESqW8_7O"
   },
   "source": [
    "Write a function ```annihilate_min_deg_poly``` that computes a non-trivial polynomial that annihilates a given square matrix and has the smallest possible degree.  Recall that a polynomial $p(x)$ has degree $d$ if the coefficient $a_{d+1}=\\ldots=a_n=0$."
   ]
  },
  {
   "cell_type": "markdown",
   "metadata": {},
   "source": [
    "**#################################################################################################**\n",
    "**#################################################################################################**\n",
    "**#################################################################################################**\n",
    "\n",
    "****Solution****"
   ]
  },
  {
   "cell_type": "markdown",
   "metadata": {},
   "source": [
    "Import required libraries"
   ]
  },
  {
   "cell_type": "code",
   "execution_count": 99,
   "metadata": {
    "colab": {},
    "colab_type": "code",
    "id": "KU94UiOz0UI9"
   },
   "outputs": [],
   "source": [
    "import numpy as np\n",
    "from scipy.linalg import null_space\n",
    "np.set_printoptions(precision=8)"
   ]
  },
  {
   "cell_type": "markdown",
   "metadata": {},
   "source": [
    "Define annihilate_poly function\n"
   ]
  },
  {
   "cell_type": "code",
   "execution_count": 100,
   "metadata": {},
   "outputs": [],
   "source": [
    "def annihilate_poly(M):\n",
    "    n = M.shape[1]\n",
    "    I = np.eye(n, dtype=int)\n",
    "    A =  I.flatten()\n",
    "    A = np.reshape(A, (-1, 1))\n",
    "    for x in range(1,n+1):\n",
    "        temp = np.linalg.matrix_power(M,x)\n",
    "        temp = np.transpose(temp.flatten())\n",
    "        temp = np.reshape(temp, (-1, 1))\n",
    "        A = np.concatenate((A,temp),axis=1)\n",
    "        \n",
    "    print(\"Matrix A=\")    \n",
    "    print(A)\n",
    "    Coef = null_space(A)\n",
    "    return Coef"
   ]
  },
  {
   "cell_type": "markdown",
   "metadata": {},
   "source": [
    "define annihilate_min_def_poly function"
   ]
  },
  {
   "cell_type": "code",
   "execution_count": 101,
   "metadata": {},
   "outputs": [],
   "source": [
    "def annihilate_min_def_poly(M):\n",
    "    n = M.shape[1]\n",
    "    I = np.eye(n, dtype=int)\n",
    "    A =  I.flatten()\n",
    "    A = np.reshape(A, (-1, 1))\n",
    "    x=1\n",
    "    while True:\n",
    "        temp = np.linalg.matrix_power(M,x)\n",
    "        temp = np.transpose(temp.flatten())\n",
    "        temp = np.reshape(temp, (-1, 1))\n",
    "        A = np.concatenate((A,temp),axis=1)\n",
    "        Coef = null_space(A)\n",
    "        if(Coef.size!=0):\n",
    "            print(\"Min Degree is\")\n",
    "            print(x)\n",
    "            break\n",
    "        x=x+1 \n",
    "#     print(\"Matrix A=\")    \n",
    "#     print(A)\n",
    "    return Coef"
   ]
  },
  {
   "cell_type": "markdown",
   "metadata": {},
   "source": [
    "Function to test the polynomial"
   ]
  },
  {
   "cell_type": "code",
   "execution_count": 102,
   "metadata": {},
   "outputs": [],
   "source": [
    "def Polytest(M,Coef):\n",
    "    n = M.shape[1]\n",
    "    I = np.eye(n, dtype=int)\n",
    "    Val = I*Coef[0]\n",
    "    for x in range(1,Coef.shape[0]):\n",
    "        Val = Val + np.linalg.matrix_power(M,x)*Coef[x]\n",
    "           \n",
    "    return Val"
   ]
  },
  {
   "cell_type": "markdown",
   "metadata": {},
   "source": []
  },
  {
   "cell_type": "markdown",
   "metadata": {},
   "source": [
    "We created 3 sample matrixes M1, M2, and M3 with sizes n=2, 3, and 4"
   ]
  },
  {
   "cell_type": "code",
   "execution_count": 103,
   "metadata": {},
   "outputs": [],
   "source": [
    "S = 2\n",
    "M1 = np.random.randint(10,size=(S,S))\n",
    "S = 3\n",
    "M2 = np.random.randint(10,size=(S,S))\n",
    "S = 4\n",
    "M3 = np.random.randint(10,size=(S,S))"
   ]
  },
  {
   "cell_type": "markdown",
   "metadata": {},
   "source": [
    "**#################################################################################################**\n",
    "\n",
    "***Test Cases On annihilate_poly***"
   ]
  },
  {
   "cell_type": "markdown",
   "metadata": {},
   "source": [
    "**#################################################################################################**\n",
    "\n",
    "***Test for Matrix M1***"
   ]
  },
  {
   "cell_type": "code",
   "execution_count": 104,
   "metadata": {},
   "outputs": [
    {
     "name": "stdout",
     "output_type": "stream",
     "text": [
      "M1 Matrix is:\n",
      "[[7 1]\n",
      " [8 4]]\n",
      "Matrix A=\n",
      "[[ 1  7 57]\n",
      " [ 0  1 11]\n",
      " [ 0  8 88]\n",
      " [ 1  4 24]]\n",
      "=============================================\n",
      "Coefficients:\n",
      "[[-0.87537622]\n",
      " [ 0.48145692]\n",
      " [-0.04376881]]\n",
      "=============================================\n",
      "P(M)=\n",
      "[[-2.66453526e-15 -4.99600361e-16]\n",
      " [-3.99680289e-15 -8.88178420e-16]]\n"
     ]
    }
   ],
   "source": [
    "print(\"M1 Matrix is:\")\n",
    "print(M1)\n",
    "Coef = annihilate_poly(M1)\n",
    "print(\"=============================================\")\n",
    "print(\"Coefficients:\")\n",
    "print(Coef)\n",
    "print(\"=============================================\")\n",
    "Out = Polytest(M1,Coef)\n",
    "print(\"P(M)=\")\n",
    "print(Out)"
   ]
  },
  {
   "cell_type": "markdown",
   "metadata": {},
   "source": [
    "***Test for Matrix M2***"
   ]
  },
  {
   "cell_type": "code",
   "execution_count": 105,
   "metadata": {},
   "outputs": [
    {
     "name": "stdout",
     "output_type": "stream",
     "text": [
      "M2 Matrix is:\n",
      "[[8 9 2]\n",
      " [1 0 3]\n",
      " [3 0 2]]\n",
      "Matrix A=\n",
      "[[  1   8  79 845]\n",
      " [  0   9  72 711]\n",
      " [  0   2  47 468]\n",
      " [  0   1  17 169]\n",
      " [  1   0   9 153]\n",
      " [  0   3   8  77]\n",
      " [  0   3  30 297]\n",
      " [  0   0  27 270]\n",
      " [  1   2  10 161]]\n",
      "=============================================\n",
      "Coefficients:\n",
      "[[-0.9873929 ]\n",
      " [ 0.0156729 ]\n",
      " [-0.15672903]\n",
      " [ 0.0156729 ]]\n",
      "=============================================\n",
      "P(M)=\n",
      "[[-5.32907052e-15 -7.10542736e-15 -5.32907052e-15]\n",
      " [-1.77635684e-15  0.00000000e+00 -2.22044605e-16]\n",
      " [-2.66453526e-15 -2.66453526e-15  4.44089210e-16]]\n"
     ]
    }
   ],
   "source": [
    "print(\"M2 Matrix is:\")\n",
    "print(M2)\n",
    "Coef = annihilate_poly(M2)\n",
    "print(\"=============================================\")\n",
    "print(\"Coefficients:\")\n",
    "print(Coef)\n",
    "print(\"=============================================\")\n",
    "Out = Polytest(M2,Coef)\n",
    "print(\"P(M)=\")\n",
    "print(Out)"
   ]
  },
  {
   "cell_type": "markdown",
   "metadata": {},
   "source": [
    "***Test for Matrix M2***"
   ]
  },
  {
   "cell_type": "code",
   "execution_count": 106,
   "metadata": {},
   "outputs": [
    {
     "name": "stdout",
     "output_type": "stream",
     "text": [
      "M3 Matrix is:\n",
      "[[3 5 2 4]\n",
      " [5 3 7 3]\n",
      " [4 9 1 3]\n",
      " [3 5 1 6]]\n",
      "Matrix A=\n",
      "[[    1     3    54   861 13954]\n",
      " [    0     5    68  1182 18558]\n",
      " [    0     2    47   688 11587]\n",
      " [    0     4    57   903 14472]\n",
      " [    0     5    67  1129 17800]\n",
      " [    1     3   112  1380 24703]\n",
      " [    0     7    41  1027 14080]\n",
      " [    0     3    68  1135 18547]\n",
      " [    0     4    70  1057 17371]\n",
      " [    0     9    71  1558 22453]\n",
      " [    1     1    75   776 14898]\n",
      " [    0     3    64  1102 17842]\n",
      " [    0     3    56   903 14703]\n",
      " [    0     5    69  1249 19498]\n",
      " [    0     1    48   709 12229]\n",
      " [    1     6    66   971 15312]]\n",
      "=============================================\n",
      "Coefficients:\n",
      "[[-0.20642099]\n",
      " [-0.95271226]\n",
      " [ 0.21912382]\n",
      " [ 0.0412842 ]\n",
      " [-0.00317571]]\n",
      "=============================================\n",
      "P(M)=\n",
      "[[-6.09645667e-12  7.95807864e-13  6.11066753e-13  6.46593890e-13]\n",
      " [ 7.67386155e-13 -5.27222710e-12  2.98427949e-13  9.16600129e-13]\n",
      " [ 8.52651283e-13  6.53699317e-13 -5.74118530e-12  8.59756710e-13]\n",
      " [ 7.10542736e-13  8.17124146e-13  6.96331881e-13 -6.13908924e-12]]\n"
     ]
    }
   ],
   "source": [
    "print(\"M3 Matrix is:\")\n",
    "print(M3)\n",
    "Coef = annihilate_poly(M3)\n",
    "print(\"=============================================\")\n",
    "print(\"Coefficients:\")\n",
    "print(Coef)\n",
    "print(\"=============================================\")\n",
    "Out = Polytest(M3,Coef)\n",
    "print(\"P(M)=\")\n",
    "print(Out)"
   ]
  },
  {
   "cell_type": "markdown",
   "metadata": {},
   "source": [
    "**#################################################################################################**\n",
    "\n",
    "***Test Cases On annihilate_min_def_poly***"
   ]
  },
  {
   "cell_type": "markdown",
   "metadata": {},
   "source": [
    "**#################################################################################################**\n",
    "\n",
    "***Test for Matrix M1***"
   ]
  },
  {
   "cell_type": "code",
   "execution_count": 107,
   "metadata": {},
   "outputs": [
    {
     "name": "stdout",
     "output_type": "stream",
     "text": [
      "M1 Matrix is:\n",
      "[[7 1]\n",
      " [8 4]]\n",
      "Min Degree is\n",
      "2\n",
      "=============================================\n",
      "Coefficients:\n",
      "[[-0.87537622]\n",
      " [ 0.48145692]\n",
      " [-0.04376881]]\n",
      "=============================================\n",
      "P(M)=\n",
      "[[-2.66453526e-15 -4.99600361e-16]\n",
      " [-3.99680289e-15 -8.88178420e-16]]\n"
     ]
    }
   ],
   "source": [
    "print(\"M1 Matrix is:\")\n",
    "print(M1)\n",
    "Coef = annihilate_min_def_poly(M1)\n",
    "print(\"=============================================\")\n",
    "print(\"Coefficients:\")\n",
    "print(Coef)\n",
    "print(\"=============================================\")\n",
    "Out = Polytest(M1,Coef)\n",
    "print(\"P(M)=\")\n",
    "print(Out)\n"
   ]
  },
  {
   "cell_type": "markdown",
   "metadata": {},
   "source": [
    "***Test for Matrix M2***"
   ]
  },
  {
   "cell_type": "code",
   "execution_count": 108,
   "metadata": {},
   "outputs": [
    {
     "name": "stdout",
     "output_type": "stream",
     "text": [
      "M2 Matrix is:\n",
      "[[8 9 2]\n",
      " [1 0 3]\n",
      " [3 0 2]]\n",
      "Min Degree is\n",
      "3\n",
      "=============================================\n",
      "Coefficients:\n",
      "[[-0.9873929 ]\n",
      " [ 0.0156729 ]\n",
      " [-0.15672903]\n",
      " [ 0.0156729 ]]\n",
      "=============================================\n",
      "P(M)=\n",
      "[[-5.32907052e-15 -7.10542736e-15 -5.32907052e-15]\n",
      " [-1.77635684e-15  0.00000000e+00 -2.22044605e-16]\n",
      " [-2.66453526e-15 -2.66453526e-15  4.44089210e-16]]\n"
     ]
    }
   ],
   "source": [
    "print(\"M2 Matrix is:\")\n",
    "print(M2)\n",
    "Coef = annihilate_min_def_poly(M2)\n",
    "print(\"=============================================\")\n",
    "print(\"Coefficients:\")\n",
    "print(Coef)\n",
    "print(\"=============================================\")\n",
    "Out = Polytest(M2,Coef)\n",
    "print(\"P(M)=\")\n",
    "print(Out)"
   ]
  },
  {
   "cell_type": "markdown",
   "metadata": {},
   "source": [
    "***Test for Matrix M3***"
   ]
  },
  {
   "cell_type": "code",
   "execution_count": 109,
   "metadata": {},
   "outputs": [
    {
     "name": "stdout",
     "output_type": "stream",
     "text": [
      "M3 Matrix is:\n",
      "[[3 5 2 4]\n",
      " [5 3 7 3]\n",
      " [4 9 1 3]\n",
      " [3 5 1 6]]\n",
      "Min Degree is\n",
      "4\n",
      "=============================================\n",
      "Coefficients:\n",
      "[[-0.20642099]\n",
      " [-0.95271226]\n",
      " [ 0.21912382]\n",
      " [ 0.0412842 ]\n",
      " [-0.00317571]]\n",
      "=============================================\n",
      "P(M)=\n",
      "[[-6.09645667e-12  7.95807864e-13  6.11066753e-13  6.46593890e-13]\n",
      " [ 7.67386155e-13 -5.27222710e-12  2.98427949e-13  9.16600129e-13]\n",
      " [ 8.52651283e-13  6.53699317e-13 -5.74118530e-12  8.59756710e-13]\n",
      " [ 7.10542736e-13  8.17124146e-13  6.96331881e-13 -6.13908924e-12]]\n"
     ]
    }
   ],
   "source": [
    "print(\"M3 Matrix is:\")\n",
    "print(M3)\n",
    "Coef = annihilate_min_def_poly(M3)\n",
    "print(\"=============================================\")\n",
    "print(\"Coefficients:\")\n",
    "print(Coef)\n",
    "print(\"=============================================\")\n",
    "Out = Polytest(M3,Coef)\n",
    "print(\"P(M)=\")\n",
    "print(Out)"
   ]
  },
  {
   "cell_type": "markdown",
   "metadata": {},
   "source": [
    "**#################################################################################################**\n",
    "\n",
    "\n",
    "For bigger matrices with size bigger than 7 annihilation needs polynomials of order 49 and is not very effective as for smaller matrices. As you can see in the following example the P(M) annihilates to numbers of order 1e-6 or 1e-7 while for matrices M of size 4 P(M) annihilated to numbers of order 1e-13\n",
    "\n",
    "Test Case with M 7x7 Matrix."
   ]
  },
  {
   "cell_type": "code",
   "execution_count": 110,
   "metadata": {},
   "outputs": [
    {
     "name": "stdout",
     "output_type": "stream",
     "text": [
      "M6 Matrix is:\n",
      "[[9 5 9 2 6 8 1]\n",
      " [4 7 2 8 3 4 7]\n",
      " [7 1 6 5 6 5 5]\n",
      " [0 8 4 0 5 4 4]\n",
      " [3 0 9 6 7 5 6]\n",
      " [2 7 9 7 2 9 6]\n",
      " [8 0 9 2 4 7 8]]\n",
      "Min Degree is\n",
      "49\n",
      "=============================================\n",
      "Coefficients:\n",
      "[[ 9.75465385e-01]\n",
      " [-1.96017866e-01]\n",
      " [ 9.89339306e-02]\n",
      " [-1.59928555e-02]\n",
      " [-6.11107228e-04]\n",
      " [ 4.60436073e-04]\n",
      " [-1.19580377e-05]\n",
      " [ 1.57238023e-10]\n",
      " [ 4.98751429e-10]\n",
      " [ 9.17183274e-11]\n",
      " [ 7.19203586e-10]\n",
      " [-9.70418121e-10]\n",
      " [ 8.26199886e-10]\n",
      " [ 1.54031343e-10]\n",
      " [ 6.21436347e-10]\n",
      " [ 3.49476309e-10]\n",
      " [ 3.27648908e-10]\n",
      " [ 1.61931038e-10]\n",
      " [-5.08327880e-10]\n",
      " [ 3.48452683e-10]\n",
      " [ 1.13643658e-09]\n",
      " [ 5.52772550e-11]\n",
      " [-4.06716077e-10]\n",
      " [-7.59699373e-10]\n",
      " [ 2.96333562e-10]\n",
      " [-9.87264437e-11]\n",
      " [ 9.67531055e-11]\n",
      " [-8.22456547e-11]\n",
      " [-2.18844970e-10]\n",
      " [-4.03075143e-11]\n",
      " [ 5.40788858e-10]\n",
      " [-9.79834547e-11]\n",
      " [ 4.58642568e-10]\n",
      " [-3.65652788e-10]\n",
      " [-2.97700038e-10]\n",
      " [ 3.71099262e-10]\n",
      " [ 2.68315828e-10]\n",
      " [ 3.15387036e-10]\n",
      " [-3.91203375e-10]\n",
      " [ 5.32437983e-10]\n",
      " [ 2.69968214e-10]\n",
      " [-4.51919006e-10]\n",
      " [ 7.01375583e-10]\n",
      " [-1.02069464e-11]\n",
      " [-1.89863736e-10]\n",
      " [-3.80329684e-10]\n",
      " [ 9.04949032e-10]\n",
      " [ 1.10077614e-10]\n",
      " [-9.70261094e-11]\n",
      " [ 7.85955745e-11]]\n",
      "=============================================\n",
      "P(M)=\n",
      "[[-4.61471917e-08  6.40367442e-07 -7.45727773e-07 -1.33240890e-06\n",
      "   1.34016693e-06 -1.14938762e-06 -1.91614700e-07]\n",
      " [ 9.71703989e-07  9.93303336e-07 -6.21980999e-07 -1.45281055e-07\n",
      "   5.79958566e-07 -1.04831752e-06  4.11956345e-07]\n",
      " [-3.12849460e-07 -1.25581940e-07 -9.33941279e-08 -1.23120971e-06\n",
      "   7.46079038e-07  2.10869996e-07 -2.27562203e-06]\n",
      " [-5.70242711e-07 -9.25935484e-07 -4.94910494e-07 -1.43756273e-06\n",
      "  -7.37770544e-08 -6.53645205e-07  1.53769553e-06]\n",
      " [-1.22571817e-06 -6.43571918e-07  2.27980288e-07 -1.18448695e-06\n",
      "   8.14645517e-07  1.49436224e-06 -1.70106228e-06]\n",
      " [-5.58006354e-07  2.21376711e-07 -7.81792960e-07 -1.15579549e-08\n",
      "  -1.50834799e-07 -7.10877819e-07  9.23938830e-07]\n",
      " [-3.99547576e-07  2.84850150e-07  1.60219405e-07 -6.81330836e-08\n",
      "   6.11759097e-07 -1.58774093e-07  2.05600430e-06]]\n"
     ]
    }
   ],
   "source": [
    "S = 7\n",
    "M6 = np.random.randint(10,size=(S,S))\n",
    "print(\"M6 Matrix is:\")\n",
    "print(M6)\n",
    "Coef = annihilate_min_def_poly(M6)\n",
    "print(\"=============================================\")\n",
    "print(\"Coefficients:\")\n",
    "print(Coef)\n",
    "print(\"=============================================\")\n",
    "Out = Polytest(M6,Coef)\n",
    "print(\"P(M)=\")\n",
    "print(Out)"
   ]
  }
 ],
 "metadata": {
  "colab": {
   "authorship_tag": "ABX9TyMZbCtN63nJJ/RGWRZA8Cxa",
   "collapsed_sections": [],
   "include_colab_link": true,
   "name": "hw_1_problem_2.ipynb",
   "provenance": []
  },
  "kernelspec": {
   "display_name": "Python 2",
   "language": "python",
   "name": "python2"
  },
  "language_info": {
   "codemirror_mode": {
    "name": "ipython",
    "version": 2
   },
   "file_extension": ".py",
   "mimetype": "text/x-python",
   "name": "python",
   "nbconvert_exporter": "python",
   "pygments_lexer": "ipython2",
   "version": "2.7.16"
  }
 },
 "nbformat": 4,
 "nbformat_minor": 2
}
